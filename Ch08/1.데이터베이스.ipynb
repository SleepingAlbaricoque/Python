{
 "cells": [
  {
   "cell_type": "code",
   "execution_count": 1,
   "metadata": {},
   "outputs": [],
   "source": [
    "\"\"\"\n",
    "날짜 : 2023.01.13\n",
    "이름 : 조수빈\n",
    "내용 : 파이썬 데이터베이스 프로그래밍 실습\n",
    "\"\"\"\n",
    "import pymysql"
   ]
  },
  {
   "cell_type": "code",
   "execution_count": 10,
   "metadata": {},
   "outputs": [
    {
     "name": "stdout",
     "output_type": "stream",
     "text": [
      "insert 완료\n"
     ]
    }
   ],
   "source": [
    "# insert 실습\n",
    "\n",
    "# DB 접속\n",
    "conn = pymysql.connect(host='127.0.0.1',\n",
    "                user='root',\n",
    "                password='1234',\n",
    "                db='java1db',\n",
    "                charset='utf8')\n",
    "\n",
    "# SQL 실행객체\n",
    "cur = conn.cursor()\n",
    "\n",
    "# SQL 실행\n",
    "sql = \"insert into `user1` values ('p101', '1234', 'Kim', '010-1234-1346', '88');\"\n",
    "cur.execute(sql)\n",
    "conn.commit() # execute transaction\n",
    "\n",
    "# DB 종료\n",
    "conn.close()\n",
    "\n",
    "print('insert 완료')"
   ]
  },
  {
   "cell_type": "code",
   "execution_count": 12,
   "metadata": {},
   "outputs": [
    {
     "name": "stdout",
     "output_type": "stream",
     "text": [
      "update 완료\n"
     ]
    }
   ],
   "source": [
    "# update 실습\n",
    "# DB 접속\n",
    "conn = pymysql.connect(host='127.0.0.1',\n",
    "                user='root',\n",
    "                password='1234',\n",
    "                db='java1db',\n",
    "                charset='utf8')\n",
    "\n",
    "# SQL 실행객체\n",
    "cur = conn.cursor()\n",
    "\n",
    "# SQL 실행\n",
    "sql = \"update `user1` set \"\n",
    "sql += \"`name`='John',\"\n",
    "sql += \"`hp`='010-4364-4574',\"\n",
    "sql += \"`age`='89' \"\n",
    "sql += \"where `uid`='p101';\"\n",
    "cur.execute(sql)\n",
    "conn.commit() # execute transaction\n",
    "\n",
    "# DB 종료\n",
    "conn.close()\n",
    "\n",
    "print('update 완료')"
   ]
  },
  {
   "cell_type": "code",
   "execution_count": 13,
   "metadata": {},
   "outputs": [
    {
     "name": "stdout",
     "output_type": "stream",
     "text": [
      "delete 완료\n"
     ]
    }
   ],
   "source": [
    "# delete 실습\n",
    "# DB 접속\n",
    "conn = pymysql.connect(host='127.0.0.1',\n",
    "                user='root',\n",
    "                password='1234',\n",
    "                db='java1db',\n",
    "                charset='utf8')\n",
    "\n",
    "# SQL 실행객체\n",
    "cur = conn.cursor()\n",
    "\n",
    "# SQL 실행\n",
    "sql = \"delete from `user1` where `uid`='p101'; \"\n",
    "cur.execute(sql)\n",
    "conn.commit() # execute transaction\n",
    "\n",
    "# DB 종료\n",
    "conn.close()\n",
    "\n",
    "print('delete 완료')"
   ]
  },
  {
   "cell_type": "code",
   "execution_count": 14,
   "metadata": {},
   "outputs": [
    {
     "name": "stdout",
     "output_type": "stream",
     "text": [
      "-----------------------\n",
      "아이디:  A102\n",
      "비밀번호:  1234\n",
      "이름:  김춘추\n",
      "휴대폰:  010-1234-2222\n",
      "나이:  23\n",
      "-----------------------\n",
      "아이디:  A103\n",
      "비밀번호:  1234\n",
      "이름:  김김김\n",
      "휴대폰:  010-1234-1234\n",
      "나이:  5555\n",
      "-----------------------\n",
      "아이디:  A104\n",
      "비밀번호:  1234\n",
      "이름:  김수한무\n",
      "휴대폰:  010-1245-1235\n",
      "나이:  7888\n",
      "-----------------------\n",
      "아이디:  testtest1\n",
      "비밀번호:  1234\n",
      "이름:  김김감\n",
      "휴대폰:  010-1234-3464\n",
      "나이:  323\n",
      "select 완료\n"
     ]
    }
   ],
   "source": [
    "# select 실습\n",
    "conn = pymysql.connect(host='127.0.0.1',\n",
    "                user='root',\n",
    "                password='1234',\n",
    "                db='java1db',\n",
    "                charset='utf8')\n",
    "\n",
    "cur = conn.cursor()\n",
    "\n",
    "sql = \"select * from `user1`;\"\n",
    "cur.execute(sql)\n",
    "conn.commit()\n",
    "\n",
    "# 데이터 출력\n",
    "for row in cur.fetchall():\n",
    "    print('-----------------------')\n",
    "    print('아이디: ', row[0])\n",
    "    print('비밀번호: ', row[1])\n",
    "    print('이름: ', row[2])\n",
    "    print('휴대폰: ', row[3])\n",
    "    print('나이: ', row[4])\n",
    "\n",
    "conn.close()\n",
    "print('select 완료')"
   ]
  }
 ],
 "metadata": {
  "kernelspec": {
   "display_name": "Python 3",
   "language": "python",
   "name": "python3"
  },
  "language_info": {
   "codemirror_mode": {
    "name": "ipython",
    "version": 3
   },
   "file_extension": ".py",
   "mimetype": "text/x-python",
   "name": "python",
   "nbconvert_exporter": "python",
   "pygments_lexer": "ipython3",
   "version": "3.11.1"
  },
  "orig_nbformat": 4,
  "vscode": {
   "interpreter": {
    "hash": "ca3167030a8377a7b82d5e665b459d458267ba920e721652be188ae573e682bb"
   }
  }
 },
 "nbformat": 4,
 "nbformat_minor": 2
}
