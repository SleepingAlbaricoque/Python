{
 "cells": [
  {
   "cell_type": "code",
   "execution_count": 1,
   "metadata": {},
   "outputs": [
    {
     "data": {
      "text/plain": [
       "'\\n날짜 : 2023.01.09\\n이름 : 조수빈\\n내용 : 파이썬 튜플 실습하기\\n'"
      ]
     },
     "execution_count": 1,
     "metadata": {},
     "output_type": "execute_result"
    }
   ],
   "source": [
    "\"\"\"\n",
    "날짜 : 2023.01.09\n",
    "이름 : 조수빈\n",
    "내용 : 파이썬 튜플 실습하기\n",
    "\"\"\""
   ]
  },
  {
   "cell_type": "code",
   "execution_count": 2,
   "metadata": {},
   "outputs": [
    {
     "name": "stdout",
     "output_type": "stream",
     "text": [
      "dataset type:  <class 'tuple'>\n",
      "dataset[0]:  1\n",
      "dataset[1]:  2\n",
      "dataset[2]:  3\n"
     ]
    }
   ],
   "source": [
    "# 튜플 = 고정 리스트\n",
    "dataset = (1, 2, 3, 4, 5)\n",
    "\n",
    "print('dataset type: ', type(dataset))\n",
    "print('dataset[0]: ', dataset[0])\n",
    "print('dataset[1]: ', dataset[1])\n",
    "print('dataset[2]: ', dataset[2])"
   ]
  },
  {
   "cell_type": "code",
   "execution_count": 4,
   "metadata": {},
   "outputs": [
    {
     "name": "stdout",
     "output_type": "stream",
     "text": [
      "dataset type:  <class 'tuple'>\n"
     ]
    }
   ],
   "source": [
    "# 튜플 수정, 추가, 삭제\n",
    "dataset = 1, 2, 3, 4, 5\n",
    "\n",
    "print('dataset type: ', type(dataset))\n",
    "\n",
    "#dataset[0] = 6 튜플은 고정 리스트이므로 수정, 추가, 삭제 불가"
   ]
  }
 ],
 "metadata": {
  "kernelspec": {
   "display_name": "Python 3",
   "language": "python",
   "name": "python3"
  },
  "language_info": {
   "codemirror_mode": {
    "name": "ipython",
    "version": 3
   },
   "file_extension": ".py",
   "mimetype": "text/x-python",
   "name": "python",
   "nbconvert_exporter": "python",
   "pygments_lexer": "ipython3",
   "version": "3.11.1"
  },
  "orig_nbformat": 4,
  "vscode": {
   "interpreter": {
    "hash": "ca3167030a8377a7b82d5e665b459d458267ba920e721652be188ae573e682bb"
   }
  }
 },
 "nbformat": 4,
 "nbformat_minor": 2
}
