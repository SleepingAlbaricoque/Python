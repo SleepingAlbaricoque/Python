{
 "cells": [
  {
   "cell_type": "code",
   "execution_count": 1,
   "metadata": {},
   "outputs": [
    {
     "data": {
      "text/plain": [
       "'\\n날짜: 2023.01.03\\n이름: 조수빈\\n내용: 파이썬 조건문 실습하기\\n'"
      ]
     },
     "execution_count": 1,
     "metadata": {},
     "output_type": "execute_result"
    }
   ],
   "source": [
    "\"\"\"\n",
    "날짜: 2023.01.03\n",
    "이름: 조수빈\n",
    "내용: 파이썬 조건문 실습하기\n",
    "\"\"\""
   ]
  },
  {
   "cell_type": "code",
   "execution_count": 5,
   "metadata": {},
   "outputs": [
    {
     "name": "stdout",
     "output_type": "stream",
     "text": [
      "num1 > 0\n",
      "num1 > 0 && num2 > 1\n",
      "num1 > 0 && num2 > 1\n"
     ]
    }
   ],
   "source": [
    "# if\n",
    "num1, num2 = 1, 2\n",
    "\n",
    "if num1 > 0:\n",
    "    print('num1 > 0')\n",
    "\n",
    "if num1 > num2:\n",
    "    print('num1 > num2')\n",
    "\n",
    "if num1 > 0:\n",
    "    if num2 > 1:\n",
    "        print('num1 > 0 && num2 > 1')\n",
    "\n",
    "if num1 > 0 and num2 > 1:\n",
    "    print('num1 > 0 && num2 > 1')"
   ]
  },
  {
   "cell_type": "code",
   "execution_count": 8,
   "metadata": {},
   "outputs": [
    {
     "name": "stdout",
     "output_type": "stream",
     "text": [
      "num3 < num4\n"
     ]
    }
   ],
   "source": [
    "# if-else\n",
    "num3, num4 = 3, 4\n",
    "\n",
    "if num3 > num4: #내용이 없어서 줄을 비워둘 때 'pass' 키워드 사용(자바의 {} 대신 사용)\n",
    "    print('num3 > num4')\n",
    "else:\n",
    "    print('num3 < num4')"
   ]
  },
  {
   "cell_type": "code",
   "execution_count": 10,
   "metadata": {},
   "outputs": [
    {
     "name": "stdout",
     "output_type": "stream",
     "text": [
      "num4 is the largest\n"
     ]
    }
   ],
   "source": [
    "# if-elif-else\n",
    "num1, num2, num3, num4 = 1, 2, 3, 4\n",
    "\n",
    "if num1 > num2:\n",
    "    print('num1 > num2')\n",
    "elif num2 > num3:\n",
    "    print('num2 > num3')\n",
    "elif num3 > num4:\n",
    "    print('num3 > num4')\n",
    "else:\n",
    "    print('num4 is the largest')"
   ]
  },
  {
   "cell_type": "code",
   "execution_count": 19,
   "metadata": {},
   "outputs": [
    {
     "name": "stdout",
     "output_type": "stream",
     "text": [
      "B\n"
     ]
    }
   ],
   "source": [
    "# 연습문제\n",
    "score = int(input('점수입력: '))\n",
    "\n",
    "if score > 100:\n",
    "    print('Invald number. Try again')\n",
    "elif score >= 90:\n",
    "    print('A')\n",
    "elif 80 <= score < 90: #파이썬에서는 가능한 문법\n",
    "    print('B')\n",
    "elif score >= 70:\n",
    "    print('C')\n",
    "elif score >= 60:\n",
    "    print('D')\n",
    "else:\n",
    "    print('F')"
   ]
  }
 ],
 "metadata": {
  "kernelspec": {
   "display_name": "Python 3",
   "language": "python",
   "name": "python3"
  },
  "language_info": {
   "codemirror_mode": {
    "name": "ipython",
    "version": 3
   },
   "file_extension": ".py",
   "mimetype": "text/x-python",
   "name": "python",
   "nbconvert_exporter": "python",
   "pygments_lexer": "ipython3",
   "version": "3.11.1"
  },
  "orig_nbformat": 4,
  "vscode": {
   "interpreter": {
    "hash": "ca3167030a8377a7b82d5e665b459d458267ba920e721652be188ae573e682bb"
   }
  }
 },
 "nbformat": 4,
 "nbformat_minor": 2
}
