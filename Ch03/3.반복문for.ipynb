{
 "cells": [
  {
   "cell_type": "code",
   "execution_count": 1,
   "metadata": {},
   "outputs": [
    {
     "data": {
      "text/plain": [
       "'\\n날짜: 2023.01.03\\n이름: 조수빈\\n내용: 파이썬 for 반복문 실습하기\\n'"
      ]
     },
     "execution_count": 1,
     "metadata": {},
     "output_type": "execute_result"
    }
   ],
   "source": [
    "\"\"\"\n",
    "날짜: 2023.01.03\n",
    "이름: 조수빈\n",
    "내용: 파이썬 for 반복문 실습하기\n",
    "\"\"\""
   ]
  },
  {
   "cell_type": "code",
   "execution_count": 9,
   "metadata": {},
   "outputs": [
    {
     "name": "stdout",
     "output_type": "stream",
     "text": [
      "i:  0\n",
      "i:  1\n",
      "i:  2\n",
      "i:  3\n",
      "i:  4\n",
      "j:  10\n",
      "j:  11\n",
      "j:  12\n",
      "j:  13\n",
      "j:  14\n",
      "j:  15\n",
      "j:  16\n",
      "j:  17\n",
      "j:  18\n",
      "j:  19\n",
      "k:  10\n",
      "k:  9\n",
      "k:  8\n",
      "k:  7\n",
      "k:  6\n",
      "k:  5\n",
      "k:  4\n",
      "k:  3\n",
      "k:  2\n",
      "k:  1\n"
     ]
    }
   ],
   "source": [
    "# for\n",
    "for i in range(5):\n",
    "    print('i: ', i)\n",
    "\n",
    "for j in range(10, 20):\n",
    "    print('j: ', j)\n",
    "\n",
    "for k in range(10, 0, -1):\n",
    "    print('k: ', k)"
   ]
  },
  {
   "cell_type": "code",
   "execution_count": 8,
   "metadata": {},
   "outputs": [
    {
     "name": "stdout",
     "output_type": "stream",
     "text": [
      "1부터 10까지의 합:  55\n"
     ]
    }
   ],
   "source": [
    "# 1부터 10까지의 합\n",
    "total = 0\n",
    "\n",
    "for i in range(11):\n",
    "    total += i\n",
    "\n",
    "print('1부터 10까지의 합: ', total)"
   ]
  },
  {
   "cell_type": "code",
   "execution_count": 12,
   "metadata": {},
   "outputs": [
    {
     "name": "stdout",
     "output_type": "stream",
     "text": [
      "1부터 10까지의 짝수합:  30\n"
     ]
    }
   ],
   "source": [
    "# 1부터 10까지 짝수합\n",
    "total = 0\n",
    "\n",
    "for i in range(11):\n",
    "    if i % 2 != 0:\n",
    "        continue\n",
    "    total += i\n",
    "print('1부터 10까지의 짝수합: ', total)"
   ]
  },
  {
   "cell_type": "code",
   "execution_count": 14,
   "metadata": {},
   "outputs": [
    {
     "name": "stdout",
     "output_type": "stream",
     "text": [
      "a:  0\n",
      "b:  0\n",
      "b:  1\n",
      "b:  2\n",
      "a:  1\n",
      "b:  0\n",
      "b:  1\n",
      "b:  2\n"
     ]
    }
   ],
   "source": [
    "# 중첩 for\n",
    "for a in range(2):\n",
    "    print('a: ', a)\n",
    "    for b in range(3):\n",
    "        print('b: ', b)"
   ]
  },
  {
   "cell_type": "code",
   "execution_count": null,
   "metadata": {},
   "outputs": [],
   "source": [
    "# 구구단 출력\n",
    "for a in range(2,10):\n",
    "    for b in range(1,10):\n",
    "        print(a, '*' , b , '=', a*b)\n",
    "        # print('{} x {} = {}'.format(x, y, z))"
   ]
  },
  {
   "cell_type": "code",
   "execution_count": 25,
   "metadata": {},
   "outputs": [
    {
     "name": "stdout",
     "output_type": "stream",
     "text": [
      "★\n",
      "★★\n",
      "★★★\n",
      "★★★★\n",
      "★★★★★\n",
      "★★★★★★\n",
      "★★★★★★★\n",
      "★★★★★★★★\n",
      "★★★★★★★★★\n",
      "★★★★★★★★★★\n"
     ]
    }
   ],
   "source": [
    "# 별삼각형\n",
    "for start in range(1, 11):\n",
    "    for end in range(start):\n",
    "        print('★', end='')\n",
    "    print() #줄 바꿈"
   ]
  },
  {
   "cell_type": "code",
   "execution_count": 23,
   "metadata": {},
   "outputs": [
    {
     "name": "stdout",
     "output_type": "stream",
     "text": [
      "\n",
      "★\n",
      "★★\n",
      "★★★\n",
      "★★★★\n",
      "★★★★★\n",
      "★★★★★★\n",
      "★★★★★★★\n",
      "★★★★★★★★\n",
      "★★★★★★★★★\n",
      "★★★★★★★★★★\n"
     ]
    }
   ],
   "source": [
    "# 별삼각형\n",
    "for i in range(11):\n",
    "    print('★' * i)"
   ]
  }
 ],
 "metadata": {
  "kernelspec": {
   "display_name": "Python 3",
   "language": "python",
   "name": "python3"
  },
  "language_info": {
   "codemirror_mode": {
    "name": "ipython",
    "version": 3
   },
   "file_extension": ".py",
   "mimetype": "text/x-python",
   "name": "python",
   "nbconvert_exporter": "python",
   "pygments_lexer": "ipython3",
   "version": "3.11.1"
  },
  "orig_nbformat": 4,
  "vscode": {
   "interpreter": {
    "hash": "ca3167030a8377a7b82d5e665b459d458267ba920e721652be188ae573e682bb"
   }
  }
 },
 "nbformat": 4,
 "nbformat_minor": 2
}
