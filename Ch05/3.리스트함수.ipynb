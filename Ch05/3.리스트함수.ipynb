{
 "cells": [
  {
   "cell_type": "code",
   "execution_count": 2,
   "metadata": {},
   "outputs": [],
   "source": [
    "\"\"\"\n",
    "날짜 : 2023.01.10\n",
    "이름 : 조수빈\n",
    "내용 : 파이썬 리스트함수 실습하기\n",
    "\"\"\"\n",
    "import math"
   ]
  },
  {
   "cell_type": "code",
   "execution_count": 36,
   "metadata": {},
   "outputs": [
    {
     "name": "stdout",
     "output_type": "stream",
     "text": [
      "[1, 4, 3]\n"
     ]
    }
   ],
   "source": [
    "dataset = [1, 4, 3]\n",
    "print(dataset)"
   ]
  },
  {
   "cell_type": "code",
   "execution_count": 11,
   "metadata": {},
   "outputs": [
    {
     "name": "stdout",
     "output_type": "stream",
     "text": [
      "[1, 4, 3, 2, 5, 2, 5, 2, 5, 2, 5, 2, 5, 2, 5, 2, 5]\n"
     ]
    }
   ],
   "source": [
    "# 데이터 추가\n",
    "dataset.append(2)\n",
    "dataset.append(5)\n",
    "print(dataset)"
   ]
  },
  {
   "cell_type": "code",
   "execution_count": 14,
   "metadata": {},
   "outputs": [
    {
     "name": "stdout",
     "output_type": "stream",
     "text": [
      "[1, 2, 2, 2, 2, 2, 2, 2, 3, 4, 5, 5, 5, 5, 5, 5, 5]\n",
      "[5, 5, 5, 5, 5, 5, 5, 4, 3, 2, 2, 2, 2, 2, 2, 2, 1]\n"
     ]
    }
   ],
   "source": [
    "# 데이터 정렬\n",
    "dataset.sort()\n",
    "print(dataset)\n",
    "\n",
    "dataset.reverse()\n",
    "print(dataset)"
   ]
  },
  {
   "cell_type": "code",
   "execution_count": 17,
   "metadata": {},
   "outputs": [
    {
     "name": "stdout",
     "output_type": "stream",
     "text": [
      "[5, 7, 6, 5, 6, 6, 5, 5, 5, 5, 5, 4, 3, 2, 2, 2, 2, 2, 2, 2, 1]\n",
      "[5, 7, 7, 6, 5, 6, 6, 5, 5, 5, 5, 5, 4, 3, 2, 2, 2, 2, 2, 2, 2, 1]\n"
     ]
    }
   ],
   "source": [
    "# 데이터 삽입\n",
    "dataset.insert(2, 6) # 세 번째 자리에 6 넣기\n",
    "print(dataset)\n",
    "\n",
    "dataset.insert(1, 7)\n",
    "print(dataset)"
   ]
  },
  {
   "cell_type": "code",
   "execution_count": 37,
   "metadata": {},
   "outputs": [
    {
     "ename": "ValueError",
     "evalue": "list.remove(x): x not in list",
     "output_type": "error",
     "traceback": [
      "\u001b[1;31m---------------------------------------------------------------------------\u001b[0m",
      "\u001b[1;31mValueError\u001b[0m                                Traceback (most recent call last)",
      "Cell \u001b[1;32mIn[37], line 2\u001b[0m\n\u001b[0;32m      1\u001b[0m \u001b[39m# 데이터 삭제\u001b[39;00m\n\u001b[1;32m----> 2\u001b[0m dataset\u001b[39m.\u001b[39;49mremove(\u001b[39m2\u001b[39;49m)\n\u001b[0;32m      3\u001b[0m \u001b[39mprint\u001b[39m(dataset)\n\u001b[0;32m      5\u001b[0m dataset\u001b[39m.\u001b[39mpop(\u001b[39m1\u001b[39m)\n",
      "\u001b[1;31mValueError\u001b[0m: list.remove(x): x not in list"
     ]
    }
   ],
   "source": [
    "# 데이터 삭제\n",
    "dataset.remove(2)\n",
    "print(dataset)\n",
    "\n",
    "dataset.pop(1)\n",
    "print(dataset)"
   ]
  },
  {
   "cell_type": "code",
   "execution_count": 42,
   "metadata": {},
   "outputs": [
    {
     "name": "stdout",
     "output_type": "stream",
     "text": [
      "r1:  [11, 12, 13, 14, 15]\n",
      "r2:  [1, 24, 3, 58]\n",
      "r3:  [10, 20, 30, 40, 50]\n"
     ]
    }
   ],
   "source": [
    "# map함수\n",
    "def plus(x):\n",
    "    return x + 10\n",
    "\n",
    "list1 = [1, 2, 3, 4, 5]\n",
    "r1 = list(map(plus, list1)) # plus 함수에 list1의 값을 일괄 적용 => 리턴값을 리스트로 만들어서 출력하면 [11, 12, 13, 14, 15]의 결과가 나옴\n",
    "\n",
    "list2 = [0.1, 23.3, 2.6, 57.5]\n",
    "r2 = list(map(math.ceil, list2))\n",
    "\n",
    "list3 = ['10', '20', '30', '40', '50']\n",
    "r3 = list(map(int, list3)) # 문자열 값을 int 값으로 변환\n",
    "\n",
    "print('r1: ', r1)\n",
    "print('r2: ', r2)\n",
    "print('r3: ', r3)"
   ]
  }
 ],
 "metadata": {
  "kernelspec": {
   "display_name": "Python 3",
   "language": "python",
   "name": "python3"
  },
  "language_info": {
   "codemirror_mode": {
    "name": "ipython",
    "version": 3
   },
   "file_extension": ".py",
   "mimetype": "text/x-python",
   "name": "python",
   "nbconvert_exporter": "python",
   "pygments_lexer": "ipython3",
   "version": "3.11.1"
  },
  "orig_nbformat": 4,
  "vscode": {
   "interpreter": {
    "hash": "ca3167030a8377a7b82d5e665b459d458267ba920e721652be188ae573e682bb"
   }
  }
 },
 "nbformat": 4,
 "nbformat_minor": 2
}
